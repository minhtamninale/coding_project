{
 "cells": [
  {
   "cell_type": "code",
   "execution_count": 1,
   "id": "d1d70d2b-47a3-4b73-a013-c2051c0fc3c2",
   "metadata": {},
   "outputs": [
    {
     "data": {
      "text/plain": [
       "'Hello world'"
      ]
     },
     "execution_count": 1,
     "metadata": {},
     "output_type": "execute_result"
    }
   ],
   "source": [
    "\"Hello world\" "
   ]
  },
  {
   "cell_type": "code",
   "execution_count": 1,
   "id": "918ac629-3ffe-47ee-8cdb-4b74e5a80c11",
   "metadata": {},
   "outputs": [
    {
     "data": {
      "text/plain": [
       "'Hello second world'"
      ]
     },
     "execution_count": 1,
     "metadata": {},
     "output_type": "execute_result"
    }
   ],
   "source": [
    "\"Hello second world\""
   ]
  },
  {
   "cell_type": "code",
   "execution_count": null,
   "id": "a8025f2e-db95-4c0c-bc7b-3b2f338c0099",
   "metadata": {},
   "outputs": [],
   "source": []
  }
 ],
 "metadata": {
  "kernelspec": {
   "display_name": "Python 3 (ipykernel)",
   "language": "python",
   "name": "python3"
  },
  "language_info": {
   "codemirror_mode": {
    "name": "ipython",
    "version": 3
   },
   "file_extension": ".py",
   "mimetype": "text/x-python",
   "name": "python",
   "nbconvert_exporter": "python",
   "pygments_lexer": "ipython3",
   "version": "3.9.7"
  }
 },
 "nbformat": 4,
 "nbformat_minor": 5
}
